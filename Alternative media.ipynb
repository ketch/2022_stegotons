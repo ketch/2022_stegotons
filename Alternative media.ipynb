{
 "cells": [
  {
   "cell_type": "markdown",
   "id": "bc91d1bf",
   "metadata": {},
   "source": [
    "Here I was just hunting for a medium (for stegotons) for which the leading corrections in the homogenization don't vanish.  I turns out this is achievable if $\\rho$ is linear and $K^{-1}$ is quadratic.  But simulations with such a medium don't look different (so far)."
   ]
  },
  {
   "cell_type": "code",
   "execution_count": null,
   "id": "d64281f0",
   "metadata": {},
   "outputs": [],
   "source": [
    "import numpy as np\n",
    "import sympy as sp"
   ]
  },
  {
   "cell_type": "code",
   "execution_count": null,
   "id": "423260e2",
   "metadata": {},
   "outputs": [],
   "source": [
    "x, rho, K, s, z = sp.symbols('x rho K s z')"
   ]
  },
  {
   "cell_type": "code",
   "execution_count": null,
   "id": "9ff4e693",
   "metadata": {},
   "outputs": [],
   "source": [
    "rho = 1+x"
   ]
  },
  {
   "cell_type": "code",
   "execution_count": null,
   "id": "54a00dd0",
   "metadata": {},
   "outputs": [],
   "source": [
    "rhoave = sp.integrate(rho,(x,0,1))\n",
    "rhoave"
   ]
  },
  {
   "cell_type": "code",
   "execution_count": null,
   "id": "3230949e",
   "metadata": {},
   "outputs": [],
   "source": [
    "rho_fluct = sp.integrate(rho - rhoave,(x,s,z))\n",
    "rho_fluct"
   ]
  },
  {
   "cell_type": "code",
   "execution_count": null,
   "id": "266d4ba4",
   "metadata": {},
   "outputs": [],
   "source": [
    "rho_fluct_ave = sp.integrate(rho_fluct,(z,0,1))\n",
    "rho_fluct_ave"
   ]
  },
  {
   "cell_type": "code",
   "execution_count": null,
   "id": "dcf06e5b",
   "metadata": {},
   "outputs": [],
   "source": [
    "sp.solve(rho_fluct_ave,s)"
   ]
  },
  {
   "cell_type": "code",
   "execution_count": null,
   "id": "2d8fe7b5",
   "metadata": {},
   "outputs": [],
   "source": [
    "rho_fluct = rho_fluct.replace(s,sp.Rational(1)/2 + sp.sqrt(3)/6).replace(z,x)\n",
    "rho_fluct"
   ]
  },
  {
   "cell_type": "code",
   "execution_count": null,
   "id": "d0f2b9c4",
   "metadata": {},
   "outputs": [],
   "source": [
    "Kinv = 1+100*x**2"
   ]
  },
  {
   "cell_type": "code",
   "execution_count": null,
   "id": "cc82edf1",
   "metadata": {},
   "outputs": [],
   "source": [
    "sp.integrate(rho_fluct*Kinv,(x,0,1))"
   ]
  },
  {
   "cell_type": "code",
   "execution_count": null,
   "id": "262ff5b8",
   "metadata": {},
   "outputs": [],
   "source": []
  }
 ],
 "metadata": {
  "kernelspec": {
   "display_name": "Python 3 (ipykernel)",
   "language": "python",
   "name": "python3"
  },
  "language_info": {
   "codemirror_mode": {
    "name": "ipython",
    "version": 3
   },
   "file_extension": ".py",
   "mimetype": "text/x-python",
   "name": "python",
   "nbconvert_exporter": "python",
   "pygments_lexer": "ipython3",
   "version": "3.10.4"
  }
 },
 "nbformat": 4,
 "nbformat_minor": 5
}
