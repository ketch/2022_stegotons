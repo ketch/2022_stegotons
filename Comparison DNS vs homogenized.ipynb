{
 "cells": [
  {
   "cell_type": "markdown",
   "id": "7c0def77",
   "metadata": {},
   "source": [
    "In this notebook we compare direct simulation of stegotons with pseudospectral solution of the homogenized equations."
   ]
  },
  {
   "cell_type": "code",
   "execution_count": null,
   "id": "ac5190a7",
   "metadata": {},
   "outputs": [],
   "source": [
    "from clawpack import pyclaw\n",
    "import matplotlib.pyplot as plt\n",
    "import matplotlib\n",
    "import matplotlib.animation\n",
    "import numpy as np\n",
    "from stegoton import *\n",
    "from IPython.display import HTML\n",
    "from scipy.integrate import quad\n",
    "\n",
    "font = {'size'   : 15}\n",
    "matplotlib.rc('font', **font)\n",
    "ifft = np.fft.ifft"
   ]
  },
  {
   "cell_type": "code",
   "execution_count": null,
   "id": "a549aa65",
   "metadata": {},
   "outputs": [],
   "source": [
    "def stress(frame):\n",
    "    \"\"\"Compute stress from strain and momentum\"\"\"\n",
    "    from clawpack.riemann.nonlinear_elasticity_1D_py import sigma \n",
    "    aux = frame.aux\n",
    "    epsilon = frame.q[0,:]\n",
    "    stress = sigma(frame.q,aux,{'stress_relation':'exponential'})\n",
    "    return stress"
   ]
  },
  {
   "cell_type": "code",
   "execution_count": null,
   "id": "8117c4f1",
   "metadata": {},
   "outputs": [],
   "source": [
    "tfinal = 100.\n",
    "A = 0.5"
   ]
  },
  {
   "cell_type": "markdown",
   "id": "ac55d3a6",
   "metadata": {},
   "source": [
    "# DNS via Clawpack"
   ]
  },
  {
   "cell_type": "code",
   "execution_count": null,
   "id": "5b16e080",
   "metadata": {},
   "outputs": [],
   "source": [
    "claw = setup(ic=2, num_output_times=100, tfinal=tfinal, cells_per_layer=40, amp=A)\n",
    "claw.run()"
   ]
  },
  {
   "cell_type": "code",
   "execution_count": null,
   "id": "e53ab96f",
   "metadata": {},
   "outputs": [],
   "source": [
    "q = claw.frames[-1].q\n",
    "xc = claw.frames[0].grid.x.centers\n",
    "rho = claw.frames[0].aux[0,:]\n",
    "u = q[1,:]/rho\n",
    "sigma = stress(claw.frames[-1])\n",
    "plt.plot(xc,sigma)\n",
    "#plt.xlim(50,100);"
   ]
  },
  {
   "cell_type": "code",
   "execution_count": null,
   "id": "e2611e47",
   "metadata": {},
   "outputs": [],
   "source": [
    "%matplotlib inline\n",
    "import matplotlib\n",
    "from matplotlib import animation\n",
    "matplotlib.rcParams['animation.embed_limit'] = 2**128\n",
    "from IPython.display import HTML\n",
    "\n",
    "fig, ax = plt.subplots(figsize=[12,8], nrows=2, ncols=1, sharex=True)\n",
    "fig.subplots_adjust(hspace=0)\n",
    "\n",
    "#fig = plt.figure(figsize=[10,6])\n",
    "#ax = plt.axes(xlim=(xc[0], xc[-1]), ylim=(2.4, 2.9))\n",
    "ax[0].set_ylim(-0.02,0.25)\n",
    "ax[1].set_ylim(-0.02,1.4)\n",
    "line, = ax[0].plot([], [], lw=2)\n",
    "line2, = ax[1].plot([], [], lw=2)\n",
    "\n",
    "def fplot(i):\n",
    "    t = i*claw.tfinal/claw.num_output_times\n",
    "    tx = 1.*t + 20\n",
    "    xl = max(tx-60,0)\n",
    "    xr = max(tx, 60)\n",
    "\n",
    "    frame = claw.frames[i]\n",
    "    eps = frame.q[0,:]\n",
    "    rho = frame.aux[0,:]\n",
    "    K = frame.aux[1,:]\n",
    "    sigma = np.exp(K*eps)-1\n",
    "    q2 = frame.q[1,:]\n",
    "    line.set_data(xc, -q2/rho)\n",
    "    line2.set_data(xc, sigma)\n",
    "    ax[0].set_title(\"t= {:.1f}\".format(frame.t))\n",
    "    ax[0].set_ylabel('-u',fontsize=20)\n",
    "    ax[1].set_ylabel('Stress',fontsize=20)\n",
    "    ax[0].set_xlim(xl,xr)\n",
    "    ax[1].set_xlim(xl,xr)\n",
    "    \n",
    "    fname = 'frame'+str(i).zfill(4)+'.png'\n",
    "    fig.savefig(fname)\n",
    "    \n",
    "    return line,\n",
    "\n",
    "anim = animation.FuncAnimation(fig, fplot, frames=101, repeat=False)\n",
    "plt.close()\n",
    "HTML(anim.to_jshtml())"
   ]
  },
  {
   "cell_type": "markdown",
   "id": "5e28de4c",
   "metadata": {},
   "source": [
    "# Homogenized equation solution with pseudospectral method"
   ]
  },
  {
   "cell_type": "markdown",
   "id": "1ea1fba6",
   "metadata": {},
   "source": [
    "Here we solve the homogenized equations.  We have specialized to a piecewise-constant medium with exponential stress-strain relation\n",
    "$$\n",
    "    \\sigma(\\epsilon,x) = \\exp(K(x)\\epsilon)-1.\n",
    "$$\n",
    "\n",
    "The homogenized equations are then\n",
    "\\begin{align}\n",
    "    \\sigma_t & = -\\frac{1}{\\left<K^{-1}\\right>} \\left(-(\\sigma+1)u_x + \\delta C_{11}u_{xx} + \\delta^2 C_{12} (\\sigma+1) u_{xxx} + \\delta^2 C_{13} \\sigma_x u_{xx}\\right) \\\\\n",
    "    u_t & = -\\frac{1}{\\left<\\rho\\right>} \\left( -\\sigma_x + \\delta C_{21} \n",
    "    \\sigma_{xx} +\\delta^2 C_{22} \\sigma_{xxx}\\right)\n",
    "\\end{align}"
   ]
  },
  {
   "cell_type": "markdown",
   "id": "e775f665",
   "metadata": {},
   "source": [
    "## Averaged coefficients: piecewise-constant media"
   ]
  },
  {
   "cell_type": "markdown",
   "id": "e113e703",
   "metadata": {},
   "source": [
    "You should modify `setaux()` in `stegoton.py` to generate the appropriate medium and then run either this section or the next one (not both)."
   ]
  },
  {
   "cell_type": "code",
   "execution_count": null,
   "id": "3d3a504f",
   "metadata": {},
   "outputs": [],
   "source": [
    "ZA = np.sqrt(rhoA*KA)\n",
    "ZB = np.sqrt(rhoB*KB)\n",
    "cA = np.sqrt(KA/rhoA)\n",
    "cB = np.sqrt(KB/rhoB)\n",
    "\n",
    "rho_mean = (rhoA+rhoB)/2\n",
    "Kinv_mean = (1/KA+1/KB)/2"
   ]
  },
  {
   "cell_type": "code",
   "execution_count": null,
   "id": "4a4ef5e6",
   "metadata": {},
   "outputs": [],
   "source": [
    "# Homogenized PDE coefficients\n",
    "alpha_fac = -1/12 * alpha**2 * (1-alpha)**2\n",
    "C12 = alpha_fac * (rhoA-rhoB)*(ZA**2-ZB**2) / (KA*KB*Kinv_mean*rho_mean**2)\n",
    "C22 = alpha_fac * (KA-KB)*(ZA**2-ZB**2) / (KA**2*KB**2*Kinv_mean**2*rho_mean)\n",
    "C13 = alpha_fac * ( rho_mean**2*(KA-KB)**2 + \\\n",
    "                   (ZA**2-ZB**2)**2) / (KA**2*KB**2*Kinv_mean**2*rho_mean**2)\n",
    "\n",
    "C11 = 0.\n",
    "C21 = 0."
   ]
  },
  {
   "cell_type": "markdown",
   "id": "228fd443",
   "metadata": {},
   "source": [
    "## Averaged coefficients: general case"
   ]
  },
  {
   "cell_type": "code",
   "execution_count": null,
   "id": "741c5b4b",
   "metadata": {},
   "outputs": [],
   "source": [
    "eps = 1.e-4\n",
    "\n",
    "def mean(f):\n",
    "    return quad(f,0,1,epsabs=eps,epsrel=eps)[0]\n",
    "\n",
    "def bracket(f):\n",
    "    brace = lambda y: f(y)-mean(f)\n",
    "    brack_nzm = lambda y: quad(brace,0,y,epsabs=eps,epsrel=eps)[0]\n",
    "    mean_bracket = mean(brack_nzm)\n",
    "    def brack(y):\n",
    "        return quad(brace,0,y,epsabs=eps,epsrel=eps)[0] - mean_bracket\n",
    "    return brack"
   ]
  },
  {
   "cell_type": "code",
   "execution_count": null,
   "id": "25c4126c",
   "metadata": {},
   "outputs": [],
   "source": [
    "# These functions should be modified if necessary to match setaux() in stegoton.py:\n",
    "rho = lambda x: 4+3.5*np.sin(2*np.pi*x)\n",
    "K = lambda x: 4+3.5*np.cos(2*np.pi*x)\n",
    "\n",
    "#K = lambda x: np.exp(np.cos(2*np.pi*x))\n",
    "#def K(x):\n",
    "#    xfrac = x-np.floor(x)\n",
    "#    return 0.5*(xfrac<0.5) + 7.5*(xfrac>=0.5)\n",
    "\n",
    "rho_mean = mean(rho)\n",
    "Kinv = lambda x: 1./K(x)\n",
    "Kinv_mean = mean(Kinv)\n",
    "brho = bracket(rho)\n",
    "bKinv = bracket(Kinv)"
   ]
  },
  {
   "cell_type": "code",
   "execution_count": null,
   "id": "2463da69",
   "metadata": {},
   "outputs": [],
   "source": [
    "numer1 = lambda x: brho(x)/K(x)\n",
    "C11 = mean(numer1)/(rho_mean*Kinv_mean)\n",
    "numer2 = lambda x: rho(x)*bKinv(x)\n",
    "C21 = mean(numer2)/(rho_mean*Kinv_mean)"
   ]
  },
  {
   "cell_type": "code",
   "execution_count": null,
   "id": "4da72607",
   "metadata": {},
   "outputs": [],
   "source": [
    "numerA = lambda x: bKinv(x)*brho(x)\n",
    "numerB = lambda x: Kinv(x)*(brho(x))**2\n",
    "numerC = lambda x: rho(x)*(bKinv(x))**2\n",
    "\n",
    "C12 = mean(numerA)/(rho_mean*Kinv_mean) - mean(numerB)/(rho_mean**2*Kinv_mean)\n",
    "C22 = mean(numerA)/(rho_mean*Kinv_mean) - mean(numerC)/(rho_mean*Kinv_mean**2)\n",
    "C13 = 2*mean(numer2)**2/(rho_mean*Kinv_mean)**2 + 2*mean(numerA)/(rho_mean*Kinv_mean) \\\n",
    "   - 2*mean(numerC)/(rho_mean*Kinv_mean**2) - mean(numerB)/(rho_mean**2*Kinv_mean)"
   ]
  },
  {
   "cell_type": "code",
   "execution_count": null,
   "id": "cd43db31",
   "metadata": {},
   "outputs": [],
   "source": [
    "C11"
   ]
  },
  {
   "cell_type": "code",
   "execution_count": null,
   "id": "0c34c092",
   "metadata": {},
   "outputs": [],
   "source": [
    "C21"
   ]
  },
  {
   "cell_type": "code",
   "execution_count": null,
   "id": "9387464f",
   "metadata": {},
   "outputs": [],
   "source": [
    "C13"
   ]
  },
  {
   "cell_type": "code",
   "execution_count": null,
   "id": "bb457ceb",
   "metadata": {},
   "outputs": [],
   "source": [
    "C22"
   ]
  },
  {
   "cell_type": "markdown",
   "id": "26345bbd",
   "metadata": {},
   "source": [
    "## Pseudospectral solution"
   ]
  },
  {
   "cell_type": "code",
   "execution_count": null,
   "id": "4d5c5e50",
   "metadata": {},
   "outputs": [],
   "source": [
    "delta = 1.\n",
    "\n",
    "def rk3(u,xi,rhs,dt,du):\n",
    "    y2 = u + dt*rhs(u,du,xi)\n",
    "    y3 = 0.75*u + 0.25*(y2 + dt*rhs(y2,du,xi))\n",
    "    u_new = 1./3 * u + 2./3 * (y3 + dt*rhs(y3,du,xi))\n",
    "    return u_new\n",
    "\n",
    "def rhs(q, dq, xi):\n",
    "    sigma = q[0,:]\n",
    "    u = q[1,:]\n",
    "    sigmahat = np.fft.fft(sigma)\n",
    "    uhat = np.fft.fft(u)\n",
    "    \n",
    "    sigma_x =   np.real(ifft(1j*xi*sigmahat))\n",
    "    sigma_xx = np.real(ifft(-   xi**2*sigmahat))\n",
    "    sigma_xxx = np.real(ifft(-1j*xi**3*sigmahat))\n",
    "    u_x =       np.real(ifft(1j*xi*uhat))\n",
    "    u_xx =      np.real(ifft(-  xi**2*uhat))\n",
    "    u_xxx =     np.real(ifft(-1j*xi**3*uhat))\n",
    "    \n",
    "    sp1 = sigma+1\n",
    "    \n",
    "    dsigma = -1./Kinv_mean * (-sp1*u_x + 1*C11*sp1*u_xx + C12*sp1*u_xxx + C13*sigma_x*u_xx)\n",
    "    du = -1./rho_mean * (-sigma_x + 1*C21*sigma_xx + C22*sigma_xxx)\n",
    "    \n",
    "    dq[0,:] = dsigma\n",
    "    dq[1,:] = du\n",
    "    return dq\n",
    "\n",
    "def solve_NLE(width=10.0, L=200, tfinal=100., m=256):\n",
    "    \"\"\"Solve the homogenized nonlinear elasticity equations using \n",
    "       Fourier spectral collocation in space\n",
    "       and SSPRK3 in time, on the domain (-L/2,L/2).\n",
    "    \"\"\"\n",
    "    # Grid\n",
    "    x = np.arange(-m/2,m/2)*(L/m)\n",
    "    xi = np.fft.fftfreq(m)*m*2*np.pi/L\n",
    "\n",
    "    dt = 1.73/((m/2)**2) \n",
    "    dt = 1*dt# / np.abs(C21/rhoave)  # Coefficient of a dispersive term\n",
    "    print(dt)\n",
    "    \n",
    "    sigma0 = A * np.exp(-x**2 / width**2)\n",
    "    u0 = np.zeros_like(x)\n",
    "    q = np.zeros((2,len(x)))\n",
    "    q[0,:] = sigma0\n",
    "    q[1,:] = u0\n",
    "\n",
    "    dq = np.zeros_like(q)\n",
    "\n",
    "    num_plots = 100\n",
    "    nplt = np.floor((tfinal/num_plots)/dt)\n",
    "    nmax = int(round(tfinal/dt))\n",
    "    print(nmax, nmax*dt)\n",
    "\n",
    "    fig = plt.figure(figsize=(12,8))\n",
    "    axes = fig.add_subplot(111)\n",
    "    line, = axes.plot(x,q[0,:],lw=2)\n",
    "    xi_max = np.max(np.abs(xi))\n",
    "    axes.set_xlabel(r'$x$',fontsize=30)\n",
    "    plt.close()\n",
    "\n",
    "    sigma = [q[0,:].copy()]\n",
    "    u = [q[1,:].copy()]\n",
    "    tt = [0]\n",
    "    \n",
    "    for n in range(1,nmax+1):\n",
    "        q_new = rk3(q,xi,rhs,dt,dq)\n",
    "            \n",
    "        q = q_new.copy()\n",
    "        t = n*dt\n",
    "        #print(t)\n",
    "        # Plotting\n",
    "        if np.mod(n,nplt) == 0:\n",
    "            print(n//nplt)\n",
    "            sigma.append(q[0,:].copy())\n",
    "            u.append(q[1,:].copy())\n",
    "            tt.append(t)\n",
    "        \n",
    "    def plot_frame(i):\n",
    "        line.set_data(x,sigma[i])\n",
    "        axes.set_title('t= %.2e' % tt[i])\n",
    "        #axes.set_xlim((-np.pi,np.pi))\n",
    "        #axes.set_ylim(ylims)\n",
    "\n",
    "    anim = matplotlib.animation.FuncAnimation(fig, plot_frame,\n",
    "                                       frames=101, interval=100)\n",
    "\n",
    "    return HTML(anim.to_jshtml()), sigma, u, x"
   ]
  },
  {
   "cell_type": "code",
   "execution_count": null,
   "id": "0ed554ab",
   "metadata": {},
   "outputs": [],
   "source": [
    "anim, sigma_hom, u_hom, x_hom = solve_NLE(m=256, width=3, tfinal=tfinal)"
   ]
  },
  {
   "cell_type": "code",
   "execution_count": null,
   "id": "e36dab0a",
   "metadata": {},
   "outputs": [],
   "source": [
    "anim"
   ]
  },
  {
   "cell_type": "code",
   "execution_count": null,
   "id": "23cd07e7",
   "metadata": {},
   "outputs": [],
   "source": [
    "anim"
   ]
  },
  {
   "cell_type": "code",
   "execution_count": null,
   "id": "8aeeb115",
   "metadata": {},
   "outputs": [],
   "source": [
    "plt.plot(x_hom,sigma_hom[0])\n",
    "plt.plot(xc,stress(claw.frames[0]))"
   ]
  },
  {
   "cell_type": "code",
   "execution_count": null,
   "id": "8c3753e9",
   "metadata": {},
   "outputs": [],
   "source": [
    "i = 90\n",
    "plt.figure(figsize=(12,8))\n",
    "plt.plot(x_hom,sigma_hom[i])\n",
    "plt.plot(xc,stress(claw.frames[i]))\n",
    "#plt.xlim(50,100)\n",
    "plt.legend(['Homogenized','Direct'])"
   ]
  },
  {
   "cell_type": "markdown",
   "id": "9c0a9fa0",
   "metadata": {},
   "source": [
    "# Conclusions"
   ]
  },
  {
   "cell_type": "markdown",
   "id": "c4bf1894",
   "metadata": {},
   "source": [
    "- For media in which the $O(\\delta)$ terms vanish (such as piecewise-constant media), the agreement is still fairly good when the solitary waves first separate.\n",
    "- The agreement gets worse as you get closer to the wave-breaking regime.\n",
    "- For media in which the $O(\\delta)$ terms don't vanish, it seems that those terms are insufficient to prevent wave breaking?  We find that the $O(\\delta^2)$ terms are still essential even at quite short times.  Omitting the $O(\\delta)$ terms seems to give better agreement than if we include them!  Suggests that they are not implemented correctly, but also that they are insignificant.\n",
    "- For some reason, the pseudospectral discretization is stable with $\\Delta t = O(\\Delta x^2)$!"
   ]
  },
  {
   "cell_type": "code",
   "execution_count": null,
   "id": "17a52fda",
   "metadata": {},
   "outputs": [],
   "source": []
  }
 ],
 "metadata": {
  "kernelspec": {
   "display_name": "Python 3 (ipykernel)",
   "language": "python",
   "name": "python3"
  },
  "language_info": {
   "codemirror_mode": {
    "name": "ipython",
    "version": 3
   },
   "file_extension": ".py",
   "mimetype": "text/x-python",
   "name": "python",
   "nbconvert_exporter": "python",
   "pygments_lexer": "ipython3",
   "version": "3.10.4"
  }
 },
 "nbformat": 4,
 "nbformat_minor": 5
}
