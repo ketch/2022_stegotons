{
 "cells": [
  {
   "cell_type": "markdown",
   "id": "e34a853e",
   "metadata": {},
   "source": [
    "Here I was looking at KdV soliton collisions to understand when the number of local maxima changes.  But later I found out that this is all very well understood."
   ]
  },
  {
   "cell_type": "code",
   "execution_count": null,
   "id": "e1d11b0b",
   "metadata": {},
   "outputs": [],
   "source": [
    "import numpy as np\n",
    "import matplotlib.pyplot as plt"
   ]
  },
  {
   "cell_type": "code",
   "execution_count": null,
   "id": "7f6da187",
   "metadata": {},
   "outputs": [],
   "source": [
    "def u2(x,t,c1=2,c2=1):\n",
    "    # 2-soliton solution\n",
    "    xi1 = x - c1*t\n",
    "    xi2 = x - c2*t\n",
    "    c1sqrt = np.sqrt(c1)\n",
    "    c2sqrt = np.sqrt(c2)\n",
    "    return 2*(c1-c2)*(c1*np.cosh(c2sqrt*xi2/2)**2 +c2*np.sinh(c1sqrt*xi1/2)**2) / \\\n",
    "            ( (c1sqrt-c2sqrt)*np.cosh((c1sqrt*xi1+c2sqrt*xi2)/2)   \\\n",
    "             + (c1sqrt+c2sqrt)*np.cosh((c1sqrt*xi1-c2sqrt*xi2)/2) )**2"
   ]
  },
  {
   "cell_type": "code",
   "execution_count": null,
   "id": "a2b5af4f",
   "metadata": {},
   "outputs": [],
   "source": [
    "t = -0.001\n",
    "x = np.linspace(-20,20,2000)\n",
    "u = u2(x,t,c1=9,c2=3.1)\n",
    "\n",
    "plt.figure(figsize=(12,8))\n",
    "plt.plot(x,u)"
   ]
  },
  {
   "cell_type": "code",
   "execution_count": null,
   "id": "265de710",
   "metadata": {},
   "outputs": [],
   "source": []
  }
 ],
 "metadata": {
  "kernelspec": {
   "display_name": "Python 3 (ipykernel)",
   "language": "python",
   "name": "python3"
  },
  "language_info": {
   "codemirror_mode": {
    "name": "ipython",
    "version": 3
   },
   "file_extension": ".py",
   "mimetype": "text/x-python",
   "name": "python",
   "nbconvert_exporter": "python",
   "pygments_lexer": "ipython3",
   "version": "3.10.4"
  }
 },
 "nbformat": 4,
 "nbformat_minor": 5
}
