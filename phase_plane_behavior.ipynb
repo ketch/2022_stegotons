{
 "cells": [
  {
   "cell_type": "markdown",
   "id": "4c5aa8de-bfb2-4703-abee-88b92cd4efc9",
   "metadata": {},
   "source": [
    "This notebook is related to the conference proceedings paper of LeVeque & Yong.  At the end of the notebook we look at the \n",
    "stegoton solution values compared to the Riemann invariants of the first-order homogenized system."
   ]
  },
  {
   "cell_type": "code",
   "execution_count": null,
   "id": "02294c99-ea84-4c3c-8c79-3449993b59fe",
   "metadata": {},
   "outputs": [],
   "source": [
    "from clawpack import pyclaw\n",
    "import matplotlib.pyplot as plt\n",
    "import matplotlib\n",
    "import matplotlib.animation\n",
    "import numpy as np\n",
    "from stegoton import *\n",
    "from IPython.display import HTML\n",
    "from scipy.integrate import quad\n",
    "\n",
    "font = {'size'   : 15}\n",
    "matplotlib.rc('font', **font)\n",
    "ifft = np.fft.ifft"
   ]
  },
  {
   "cell_type": "code",
   "execution_count": null,
   "id": "74e1728f-da0c-49d0-84b9-fac8f50a4900",
   "metadata": {},
   "outputs": [],
   "source": [
    "def stress(frame):\n",
    "    \"\"\"Compute stress from strain and momentum\"\"\"\n",
    "    from clawpack.riemann.nonlinear_elasticity_1D_py import sigma \n",
    "    aux = frame.aux\n",
    "    epsilon = frame.q[0,:]\n",
    "    stress = sigma(frame.q,aux,{'stress_relation':'exponential'})\n",
    "    return stress"
   ]
  },
  {
   "cell_type": "markdown",
   "id": "1a89a747-a4c7-4c53-8c43-1c189586eccc",
   "metadata": {},
   "source": [
    "# Set up and run"
   ]
  },
  {
   "cell_type": "code",
   "execution_count": null,
   "id": "63f243fc-a14f-470d-88c1-6843db96389b",
   "metadata": {},
   "outputs": [],
   "source": [
    "tfinal = 200.\n",
    "A = 1.0\n",
    "cpl = 160\n",
    "\n",
    "claw = setup(ic=2, num_output_times=400, tfinal=tfinal, cells_per_layer=cpl, amp=A, solver_type=\"sharpclaw\")\n",
    "claw.solution.state.grid.add_gauges([(150.25,)])\n",
    "claw.solution.state.grid.add_gauges([(150.75,)])\n",
    "claw.solver.cfl_max = 1.9\n",
    "claw.solver.cfl_desired = 1.85\n",
    "\n",
    "claw.run()"
   ]
  },
  {
   "cell_type": "code",
   "execution_count": null,
   "id": "864b4b09-b7b6-4eee-bfaf-b30497502f67",
   "metadata": {},
   "outputs": [],
   "source": [
    "import matplotlib\n",
    "from matplotlib import animation\n",
    "matplotlib.rcParams['animation.embed_limit'] = 2**128\n",
    "from IPython.display import HTML\n",
    "\n",
    "fig, ax = plt.subplots(figsize=[12,8], nrows=2, ncols=1, sharex=True)\n",
    "fig.subplots_adjust(hspace=0)\n",
    "\n",
    "#fig = plt.figure(figsize=[10,6])\n",
    "#ax = plt.axes(xlim=(xc[0], xc[-1]), ylim=(2.4, 2.9))\n",
    "ax[0].set_ylim(-0.02,0.4)\n",
    "ax[1].set_ylim(-0.02,1.4)\n",
    "line, = ax[0].plot([], [], lw=2)\n",
    "line2, = ax[1].plot([], [], lw=2)\n",
    "\n",
    "xc = claw.frames[0].grid.x.centers\n",
    "\n",
    "def fplot(i):\n",
    "    t = i*claw.tfinal/claw.num_output_times\n",
    "    tx = 1.*t + 20\n",
    "    xl = max(tx-60,0)\n",
    "    xr = max(tx, 60)\n",
    "\n",
    "    frame = claw.frames[i]\n",
    "    eps = frame.q[0,:]\n",
    "    rho = frame.aux[0,:]\n",
    "    K = frame.aux[1,:]\n",
    "    sigma = np.exp(K*eps)-1\n",
    "    q2 = frame.q[1,:]\n",
    "    line.set_data(xc, -q2/rho)\n",
    "    line2.set_data(xc, sigma)\n",
    "    ax[0].set_title(\"t= {:.1f}\".format(frame.t))\n",
    "    ax[0].set_ylabel('-u',fontsize=20)\n",
    "    ax[1].set_ylabel('Stress',fontsize=20)\n",
    "    ax[0].set_xlim(xl,xr)\n",
    "    ax[1].set_xlim(xl,xr)\n",
    "    \n",
    "    fname = 'frame'+str(i).zfill(4)+'.png'\n",
    "    fig.savefig(fname)\n",
    "    \n",
    "    return line,\n",
    "\n",
    "anim = animation.FuncAnimation(fig, fplot, frames=401, repeat=False)\n",
    "plt.close()\n",
    "HTML(anim.to_jshtml())"
   ]
  },
  {
   "cell_type": "code",
   "execution_count": null,
   "id": "45ca4631-18d3-47f7-b974-069bbd1f7900",
   "metadata": {},
   "outputs": [],
   "source": [
    "anim.save(\"stegoton_train_follow.mp4\")"
   ]
  },
  {
   "cell_type": "markdown",
   "id": "a3393b0e-813f-4fa5-89b4-94888139de9b",
   "metadata": {},
   "source": [
    "# Gauges at layer midpoints"
   ]
  },
  {
   "cell_type": "code",
   "execution_count": null,
   "id": "cde67ad8-259c-4391-84e9-6cbc8b8baf8c",
   "metadata": {},
   "outputs": [],
   "source": [
    "gaugeA = np.loadtxt('./_output/_gauges/gauge150.25.txt')\n",
    "tA = gaugeA[:,0]\n",
    "strainA = gaugeA[:,1]\n",
    "rhouA = gaugeA[:,2]\n",
    "rhoA = 1.; KA = 1.\n",
    "\n",
    "sigA = np.exp(KA*strainA) - 1.\n",
    "uA = rhouA / rhoA"
   ]
  },
  {
   "cell_type": "code",
   "execution_count": null,
   "id": "4d81177f-820a-493e-bd8e-29ea434331c8",
   "metadata": {},
   "outputs": [],
   "source": [
    "gaugeB = np.loadtxt('./_output/_gauges/gauge150.75.txt')\n",
    "tB = gaugeB[:,0]\n",
    "strainB = gaugeB[:,1]\n",
    "rhouB = gaugeB[:,2]\n",
    "rhoB = 4.; KB = 4.\n",
    "\n",
    "sigB = np.exp(KB*strainB) - 1.\n",
    "uB = rhouB / rhoB"
   ]
  },
  {
   "cell_type": "code",
   "execution_count": null,
   "id": "270b72bb-2312-4a8b-ad62-16933b922b25",
   "metadata": {},
   "outputs": [],
   "source": [
    "plt.plot(sigA, uA, '-b')\n",
    "plt.plot(sigB, uB, '-r')\n",
    "ss = np.linspace(0,1)\n",
    "uu = 1-np.sqrt(ss+1)\n",
    "plt.plot(ss, uu, '-k')\n",
    "plt.xlabel(r'$\\sigma$',fontsize=20)\n",
    "plt.ylabel(r'$u$',fontsize=20);"
   ]
  },
  {
   "cell_type": "code",
   "execution_count": null,
   "id": "56dffbf2-0677-4677-95ef-32ba1c7023db",
   "metadata": {},
   "outputs": [],
   "source": [
    "plt.plot(tA,sigA)\n",
    "plt.xlim(150,200)"
   ]
  },
  {
   "cell_type": "code",
   "execution_count": null,
   "id": "9044d429-4929-41ca-8760-3c5b21b9ed87",
   "metadata": {},
   "outputs": [],
   "source": [
    "i = 20\n",
    "frame = claw.frames[i]\n",
    "q = frame.q\n",
    "xc = frame.grid.x.centers\n",
    "rho = frame.aux[0,:]\n",
    "u = q[1,:]/rho\n",
    "sig = stress(frame)\n",
    "\n",
    "Kavg = 8/5.\n",
    "rhoavg = 5/2\n",
    "\n",
    "sigavg = np.exp(Kavg*q[0,:]) - 1.\n",
    "uB = q[1,:] / rhoavg"
   ]
  },
  {
   "cell_type": "code",
   "execution_count": null,
   "id": "4e006067-ee75-4bdc-8ed1-9bc21e21996b",
   "metadata": {},
   "outputs": [],
   "source": [
    "plt.plot(sig, u)\n",
    "ss = np.linspace(0,1)\n",
    "uu = 1-np.sqrt(ss+1)\n",
    "plt.plot(ss, uu, '-k')"
   ]
  },
  {
   "cell_type": "code",
   "execution_count": null,
   "id": "ce6139c5-7970-4688-8122-78eb0871af90",
   "metadata": {},
   "outputs": [],
   "source": [
    "sig_window = np.lib.stride_tricks.sliding_window_view(sig, cpl)\n",
    "u_window = np.lib.stride_tricks.sliding_window_view(u, cpl)\n",
    "\n",
    "sig_avg = sig_window.mean(1)\n",
    "u_avg = u_window.mean(1)"
   ]
  },
  {
   "cell_type": "code",
   "execution_count": null,
   "id": "8f7baad0-17fd-4bf8-9178-d6d0857b17ea",
   "metadata": {},
   "outputs": [],
   "source": [
    "plt.plot(sig_avg,u_avg)\n",
    "ss = np.linspace(0,1)\n",
    "uu = 1-np.sqrt(ss+1)\n",
    "plt.plot(ss, uu, '-k')\n",
    "plt.plot(ss,-uu, '-k');\n",
    "plt.xlabel(r'$\\sigma$',fontsize=20)\n",
    "plt.ylabel(r'$u$',fontsize=20);"
   ]
  },
  {
   "cell_type": "markdown",
   "id": "4911c1f9-ab05-439e-a9cc-bf8bc8a2c291",
   "metadata": {},
   "source": [
    "# Animation of both wave trains"
   ]
  },
  {
   "cell_type": "code",
   "execution_count": null,
   "id": "8005f07b-88eb-4e43-a4f7-dd777ebed89e",
   "metadata": {},
   "outputs": [],
   "source": [
    "import matplotlib\n",
    "from matplotlib import animation\n",
    "matplotlib.rcParams['animation.embed_limit'] = 2**128\n",
    "from IPython.display import HTML\n",
    "\n",
    "fig, ax = plt.subplots(figsize=[12,8], nrows=2, ncols=1, sharex=True)\n",
    "fig.subplots_adjust(hspace=0)\n",
    "\n",
    "#fig = plt.figure(figsize=[10,6])\n",
    "#ax = plt.axes(xlim=(xc[0], xc[-1]), ylim=(2.4, 2.9))\n",
    "ax[0].set_ylim(-0.4,0.4)\n",
    "ax[1].set_ylim(-0.02,1.6)\n",
    "line, = ax[0].plot([], [], lw=2)\n",
    "line2, = ax[1].plot([], [], lw=2)\n",
    "\n",
    "xc = claw.frames[0].grid.x.centers\n",
    "\n",
    "def fplot(i):\n",
    "    t = i*claw.tfinal/claw.num_output_times\n",
    "\n",
    "    frame = claw.frames[i]\n",
    "    eps = frame.q[0,:]\n",
    "    rho = frame.aux[0,:]\n",
    "    K = frame.aux[1,:]\n",
    "    sigma = np.exp(K*eps)-1\n",
    "    q2 = frame.q[1,:]\n",
    "    line.set_data(xc, -q2/rho)\n",
    "    line2.set_data(xc, sigma)\n",
    "    ax[0].set_title(\"t= {:.1f}\".format(frame.t))\n",
    "    ax[0].set_ylabel('u',fontsize=20)\n",
    "    ax[1].set_ylabel(r'$\\sigma$',fontsize=20)\n",
    "    ax[0].set_xlim(-200,200)\n",
    "    ax[1].set_xlim(-200,200)\n",
    "    \n",
    "    fname = 'frame'+str(i).zfill(4)+'.png'\n",
    "    fig.savefig(fname)\n",
    "    \n",
    "    return line,\n",
    "\n",
    "anim = animation.FuncAnimation(fig, fplot, frames=101, repeat=False)\n",
    "plt.close()\n",
    "HTML(anim.to_jshtml())"
   ]
  },
  {
   "cell_type": "code",
   "execution_count": null,
   "id": "5b22259d-0398-4b55-9a18-e8cd6e946fb1",
   "metadata": {},
   "outputs": [],
   "source": [
    "anim.save('two_stegoton_trains.mp4')"
   ]
  },
  {
   "cell_type": "markdown",
   "id": "d91e4b12-dc79-4dd6-8b9b-a4582ceef0fc",
   "metadata": {},
   "source": [
    "# Animation of solution values vs. Riemann invariants"
   ]
  },
  {
   "cell_type": "code",
   "execution_count": null,
   "id": "cc7de818-c34b-4163-af7e-5b3db1cb14c9",
   "metadata": {},
   "outputs": [],
   "source": [
    "fig, ax = plt.subplots(figsize=[8,8], nrows=1, ncols=1)\n",
    "\n",
    "ax.set_ylim(-0.5,0.5)\n",
    "ax.set_xlim(0,0.8)\n",
    "ax.set_xlabel(r'$\\sigma$',fontsize=20)\n",
    "ax.set_ylabel(r'$u$',fontsize=20);\n",
    "line, = ax.plot([], [], lw=2)\n",
    "\n",
    "xc = claw.frames[0].grid.x.centers\n",
    "\n",
    "Kavg = 8/5.\n",
    "rhoavg = 5/2\n",
    "sigavg = np.exp(Kavg*q[0,:]) - 1.\n",
    "uB = q[1,:] / rhoavg\n",
    "ss = np.linspace(0,1)\n",
    "uu = 1-np.sqrt(ss+1)\n",
    "\n",
    "line3, = ax.plot(ss,uu,'-k')\n",
    "line4, = ax.plot(ss,-uu,'-k')\n",
    "\n",
    "def fplot(i):\n",
    "    t = i*claw.tfinal/claw.num_output_times\n",
    "\n",
    "    frame = claw.frames[i]\n",
    "    q = frame.q\n",
    "    xc = frame.grid.x.centers\n",
    "    rho = frame.aux[0,:]\n",
    "    u = q[1,:]/rho\n",
    "    sig = stress(frame)\n",
    "    \n",
    "    sig_window = np.lib.stride_tricks.sliding_window_view(sig, cpl)\n",
    "    u_window = np.lib.stride_tricks.sliding_window_view(u, cpl)\n",
    "    \n",
    "    sig_avg = sig_window.mean(1)\n",
    "    u_avg = u_window.mean(1)\n",
    "\n",
    "    line.set_data(sig_avg, u_avg)\n",
    "    ax.set_title(\"t= {:.1f}\".format(frame.t))\n",
    "    \n",
    "    return line,\n",
    "\n",
    "anim = animation.FuncAnimation(fig, fplot, frames=401, repeat=False)\n",
    "plt.close()\n",
    "HTML(anim.to_jshtml())"
   ]
  },
  {
   "cell_type": "code",
   "execution_count": null,
   "id": "f4d5484a-0537-4360-9fd1-804cdeb03323",
   "metadata": {},
   "outputs": [],
   "source": [
    "anim.save('riemann_invariants.mp4')"
   ]
  },
  {
   "cell_type": "markdown",
   "id": "3c46a44d-29f2-44a9-80e3-af52069e9968",
   "metadata": {},
   "source": [
    "# Combined animation"
   ]
  },
  {
   "cell_type": "code",
   "execution_count": null,
   "id": "c5748a19-7560-4ade-baf7-54be2e860972",
   "metadata": {},
   "outputs": [],
   "source": [
    "ax = plt.figure(layout=\"constrained\",figsize=(10,6)).subplot_mosaic(\n",
    "    \"\"\"\n",
    "    AAD\n",
    "    CCD\n",
    "    \"\"\"\n",
    ")\n",
    "fig = plt.gcf()\n",
    "\n",
    "ax['A'].set_ylim(-0.4,0.4)\n",
    "ax['C'].set_ylim(-0.02,1.6)\n",
    "line, = ax['A'].plot([], [], lw=2)\n",
    "line2, = ax['C'].plot([], [], lw=2)\n",
    "line3, = ax['D'].plot([], [], lw=2)\n",
    "\n",
    "ax['D'].set_ylim(-0.5,0.5)\n",
    "ax['D'].set_xlim(0,0.8)\n",
    "ax['D'].set_xlabel(r'$\\sigma$',fontsize=20)\n",
    "ax['D'].set_ylabel(r'$u$',fontsize=20);\n",
    "\n",
    "line4, = ax['D'].plot(ss,uu,'-k')\n",
    "line5, = ax['D'].plot(ss,-uu,'-k')\n",
    "xc = claw.frames[0].grid.x.centers\n",
    "\n",
    "def fplot2(i):\n",
    "    t = i*claw.tfinal/claw.num_output_times\n",
    "\n",
    "    frame = claw.frames[i]\n",
    "    eps = frame.q[0,:]\n",
    "    rho = frame.aux[0,:]\n",
    "    K = frame.aux[1,:]\n",
    "    sigma = np.exp(K*eps)-1\n",
    "    q2 = frame.q[1,:]\n",
    "    u = q2/rho\n",
    "    line.set_data(xc, -q2/rho)\n",
    "    line2.set_data(xc, sigma)\n",
    "    ax['A'].set_title(\"t= {:.1f}\".format(frame.t))\n",
    "    ax['A'].set_ylabel('u',fontsize=20)\n",
    "    ax['C'].set_ylabel(r'$\\sigma$',fontsize=20)\n",
    "    ax['A'].set_xlim(-200,200)\n",
    "    ax['C'].set_xlim(-200,200)\n",
    "\n",
    "    sig_window = np.lib.stride_tricks.sliding_window_view(sigma, cpl)\n",
    "    u_window = np.lib.stride_tricks.sliding_window_view(u, cpl)\n",
    "    \n",
    "    sig_avg = sig_window.mean(1)\n",
    "    u_avg = u_window.mean(1)\n",
    "\n",
    "    line3.set_data(sig_avg, u_avg)\n",
    "\n",
    "    return line,\n",
    "\n",
    "anim = animation.FuncAnimation(fig, fplot2, frames=401, repeat=False)\n",
    "plt.close()\n",
    "HTML(anim.to_jshtml())"
   ]
  },
  {
   "cell_type": "code",
   "execution_count": null,
   "id": "336fcc64-bc72-46b4-bb47-994be8d88874",
   "metadata": {},
   "outputs": [],
   "source": [
    "anim.save('combined.mp4')"
   ]
  },
  {
   "cell_type": "code",
   "execution_count": null,
   "id": "6e447865-c55a-4407-8a58-f3758ddd07f5",
   "metadata": {},
   "outputs": [],
   "source": []
  }
 ],
 "metadata": {
  "kernelspec": {
   "display_name": "Python 3 (ipykernel)",
   "language": "python",
   "name": "python3"
  },
  "language_info": {
   "codemirror_mode": {
    "name": "ipython",
    "version": 3
   },
   "file_extension": ".py",
   "mimetype": "text/x-python",
   "name": "python",
   "nbconvert_exporter": "python",
   "pygments_lexer": "ipython3",
   "version": "3.11.4"
  }
 },
 "nbformat": 4,
 "nbformat_minor": 5
}
