{
 "cells": [
  {
   "cell_type": "markdown",
   "id": "d98fd133",
   "metadata": {},
   "source": [
    "The idea here is to look at the evolution of a single stegoton as it moves through one period of the medium.  We can compare its behavior with what is predicted by certain intermediate equations obtained in the homogenization process."
   ]
  },
  {
   "cell_type": "markdown",
   "id": "a50de5a1",
   "metadata": {},
   "source": [
    "Before executing this notebook, it's necessary to run `stegoton.py` with appropriate parameters."
   ]
  },
  {
   "cell_type": "code",
   "execution_count": null,
   "id": "e3c37ee6",
   "metadata": {},
   "outputs": [],
   "source": [
    "from clawpack import pyclaw\n",
    "import matplotlib.pyplot as plt\n",
    "import numpy as np\n",
    "from stegoton import cells_per_layer\n"
   ]
  },
  {
   "cell_type": "markdown",
   "id": "11269f19",
   "metadata": {},
   "source": [
    "# Cutting the stegotons"
   ]
  },
  {
   "cell_type": "code",
   "execution_count": null,
   "id": "79e4e803",
   "metadata": {},
   "outputs": [],
   "source": [
    "soln = pyclaw.Solution()\n",
    "\n",
    "soln.read(20,file_format='ascii')\n",
    "xc = soln.grid.x.centers\n",
    "plt.plot(-soln.q[1,:])\n"
   ]
  },
  {
   "cell_type": "code",
   "execution_count": null,
   "id": "693298a4",
   "metadata": {},
   "outputs": [],
   "source": [
    "q0 = soln.q.copy()\n",
    "\n",
    "isteg1 = [2000,3000]  # This depends on the setup in stegoton.py\n",
    "plt.plot(q0[0,isteg1[0]:isteg1[1]])  # Plot to check that we got the right region\n"
   ]
  },
  {
   "cell_type": "code",
   "execution_count": null,
   "id": "954dc7d5",
   "metadata": {},
   "outputs": [],
   "source": [
    "steg1_shift = -30  # Move the stegoton this far, in material layers\n",
    "q = np.zeros_like(q0)\n",
    "isteg1_shifted = np.array(isteg1) + cells_per_layer*steg1_shift\n",
    "q[:,isteg1_shifted[0]:isteg1_shifted[1]] = q0[:,isteg1[0]:isteg1[1]]\n",
    "plt.plot(xc,q[0,:])"
   ]
  },
  {
   "cell_type": "code",
   "execution_count": null,
   "id": "fb70266f",
   "metadata": {},
   "outputs": [],
   "source": [
    "np.savetxt('shorter_stegoton.txt',q)\n"
   ]
  },
  {
   "cell_type": "code",
   "execution_count": null,
   "id": "63136298",
   "metadata": {},
   "outputs": [],
   "source": [
    "from stegoton import setup\n",
    "claw = setup(ic='shorter_stegoton.txt',tfinal=10,outdir='shorter')\n",
    "claw.run()\n"
   ]
  },
  {
   "cell_type": "code",
   "execution_count": null,
   "id": "0493ac56",
   "metadata": {},
   "outputs": [],
   "source": [
    "sol_1steg = pyclaw.Solution()\n",
    "\n",
    "sol_1steg.read(2000,path='./shorter',file_format='ascii',read_aux=True)\n",
    "xc = sol_1steg.grid.x.centers\n",
    "plt.plot(xc,sol_1steg.q[0,:])\n"
   ]
  },
  {
   "cell_type": "markdown",
   "id": "a76c0684",
   "metadata": {},
   "source": [
    "# Plotting"
   ]
  },
  {
   "cell_type": "code",
   "execution_count": null,
   "id": "573ec17e",
   "metadata": {},
   "outputs": [],
   "source": [
    "%matplotlib inline\n",
    "import matplotlib\n",
    "from matplotlib import animation\n",
    "matplotlib.rcParams['animation.embed_limit'] = 2**128\n",
    "from IPython.display import HTML\n",
    "\n",
    "fig, ax = plt.subplots(figsize=[12,8], nrows=2, ncols=1, sharex=True)\n",
    "fig.subplots_adjust(hspace=0)\n",
    "\n",
    "#fig = plt.figure(figsize=[10,6])\n",
    "#ax = plt.axes(xlim=(xc[0], xc[-1]), ylim=(2.4, 2.9))\n",
    "ax[0].set_ylim(-0.02,0.25)\n",
    "ax[1].set_ylim(-0.02,0.4)\n",
    "line, = ax[0].plot([], [], lw=2)\n",
    "line2, = ax[1].plot([], [], lw=2)\n",
    "\n",
    "def fplot(i):\n",
    "    t = i*claw.tfinal/claw.num_output_times\n",
    "    #tx = 1.21*t + 20\n",
    "    xl = 23\n",
    "    xr = 43\n",
    "\n",
    "    frame = claw.frames[i]\n",
    "    eps = frame.q[0,:]\n",
    "    rho = frame.aux[0,:]\n",
    "    K = frame.aux[1,:]\n",
    "    sigma = np.exp(K*eps)-1\n",
    "    q2 = frame.q[1,:]\n",
    "    line.set_data(xc, -q2/rho)\n",
    "    line2.set_data(xc, sigma)\n",
    "    ax[0].set_title(\"t= {:.1f}\".format(frame.t))\n",
    "    ax[0].set_ylabel('-u',fontsize=20)\n",
    "    ax[1].set_ylabel('Stress',fontsize=20)\n",
    "    ax[0].set_xlim(xl,xr)\n",
    "    ax[1].set_xlim(xl,xr)\n",
    "    \n",
    "    fname = 'frame'+str(i).zfill(4)+'.png'\n",
    "    fig.savefig(fname)\n",
    "    \n",
    "    return line,\n",
    "\n",
    "anim = animation.FuncAnimation(fig, fplot, frames=1000, repeat=False)\n",
    "plt.close()\n",
    "HTML(anim.to_jshtml())"
   ]
  },
  {
   "cell_type": "code",
   "execution_count": null,
   "id": "4587fbbe",
   "metadata": {},
   "outputs": [],
   "source": [
    "# Write video to file\n",
    "writervideo = animation.FFMpegWriter(fps=20)\n",
    "anim.save('breather_shorter.mp4',writervideo)\n"
   ]
  },
  {
   "cell_type": "markdown",
   "id": "0a524dee",
   "metadata": {},
   "source": [
    "# Speed"
   ]
  },
  {
   "cell_type": "code",
   "execution_count": null,
   "id": "14fcac3c",
   "metadata": {},
   "outputs": [],
   "source": [
    "x0 = xc[np.argmin(claw.frames[0].q[1,:])]\n",
    "t0 = claw.frames[0].t\n",
    "\n",
    "s = np.zeros(245)\n",
    "\n",
    "for i, end in enumerate(range(1,len(s)+1)):\n",
    "    x1 = xc[np.argmin(claw.frames[-end].q[1,:])]\n",
    "    t1 = claw.frames[-end].t\n",
    "    s[i] = (x1-x0)/(t1-t0)\n",
    "\n",
    "s_mean = np.sum(s)/len(s)\n",
    "plt.plot(s)\n",
    "s[0]-s[-1]\n",
    "#s_mean"
   ]
  },
  {
   "cell_type": "code",
   "execution_count": null,
   "id": "af385a70",
   "metadata": {},
   "outputs": [],
   "source": [
    "s_mean"
   ]
  },
  {
   "cell_type": "markdown",
   "id": "e0ba0cac",
   "metadata": {},
   "source": [
    "Now we should re-run with output at intervals `s_mean*dx`"
   ]
  },
  {
   "cell_type": "markdown",
   "id": "7461b664",
   "metadata": {},
   "source": [
    "Next let's look at the solution divided by the initial data, in the moving frame of reference."
   ]
  },
  {
   "cell_type": "code",
   "execution_count": null,
   "id": "ba790462",
   "metadata": {},
   "outputs": [],
   "source": [
    "init = claw.frames[0]\n",
    "eps0 = init.q[0,:]\n",
    "K = init.aux[1,:]\n",
    "sigma0 = np.exp(K*eps0) - 1\n",
    "\n",
    "fig, ax = plt.subplots(figsize=[12,8], nrows=2, ncols=1, sharex=True)\n",
    "fig.subplots_adjust(hspace=0)\n",
    "\n",
    "#fig = plt.figure(figsize=[10,6])\n",
    "#ax = plt.axes(xlim=(xc[0], xc[-1]), ylim=(2.4, 2.9))\n",
    "ax[0].set_ylim(-0.02,0.25)\n",
    "ax[1].set_ylim(-0.02,0.4)\n",
    "line, = ax[0].plot([], [], lw=2)\n",
    "line2, = ax[1].plot([], [], lw=2)\n",
    "\n",
    "def fplot(i):\n",
    "    t = i*claw.tfinal/claw.num_output_times\n",
    "    #tx = 1.21*t + 20\n",
    "    xl = 23\n",
    "    xr = 43\n",
    "\n",
    "    frame = claw.frames[i]\n",
    "    eps = frame.q[0,:]\n",
    "    rho = frame.aux[0,:]\n",
    "    K = frame.aux[1,:]\n",
    "    sigma = np.exp(K*eps)-1\n",
    "    q2 = frame.q[1,:]\n",
    "    line.set_data(xc, -q2/rho)\n",
    "    line2.set_data(xc, sigma)\n",
    "    ax[0].set_title(\"t= {:.1f}\".format(frame.t))\n",
    "    ax[0].set_ylabel('-u',fontsize=20)\n",
    "    ax[1].set_ylabel('Stress',fontsize=20)\n",
    "    ax[0].set_xlim(xl,xr)\n",
    "    ax[1].set_xlim(xl,xr)\n",
    "    \n",
    "    fname = 'frame'+str(i).zfill(4)+'.png'\n",
    "    fig.savefig(fname)\n",
    "    \n",
    "    return line,\n",
    "\n",
    "anim = animation.FuncAnimation(fig, fplot, frames=1000, repeat=False)\n",
    "plt.close()\n",
    "HTML(anim.to_jshtml())"
   ]
  },
  {
   "cell_type": "markdown",
   "id": "799e3015",
   "metadata": {},
   "source": [
    "# Averaged solution"
   ]
  },
  {
   "cell_type": "code",
   "execution_count": null,
   "id": "35d7e638",
   "metadata": {},
   "outputs": [],
   "source": [
    "num_layers = len(xc)//cells_per_layer\n",
    "qq = claw.frames[0].q\n",
    "for i in range(num_layers):\n",
    "    qq[0,i*cells_per_layer:(i+1)*cells_per_layer] = sum(qq[0,i*cells_per_layer:(i+1)*cells_per_layer])/cells_per_layer \n",
    "    qq[1,i*cells_per_layer:(i+1)*cells_per_layer] = sum(qq[1,i*cells_per_layer:(i+1)*cells_per_layer])/cells_per_layer\n",
    "    \n",
    "plt.plot(xc,qq[0,:])\n",
    "plt.xlim(23,43)\n",
    "    \n",
    "    "
   ]
  },
  {
   "cell_type": "code",
   "execution_count": null,
   "id": "64061f65",
   "metadata": {},
   "outputs": [],
   "source": [
    "# Plot with averaged solution\n",
    "\n",
    "%matplotlib inline\n",
    "import matplotlib\n",
    "from matplotlib import animation\n",
    "matplotlib.rcParams['animation.embed_limit'] = 2**128\n",
    "from IPython.display import HTML\n",
    "\n",
    "fig, ax = plt.subplots(figsize=[12,8], nrows=2, ncols=1, sharex=True)\n",
    "fig.subplots_adjust(hspace=0)\n",
    "\n",
    "#fig = plt.figure(figsize=[10,6])\n",
    "#ax = plt.axes(xlim=(xc[0], xc[-1]), ylim=(2.4, 2.9))\n",
    "ax[0].set_ylim(-0.02,0.75)\n",
    "ax[1].set_ylim(-0.02,1.0)\n",
    "line, = ax[0].plot([], [], lw=2)\n",
    "lineavg, = ax[1].plot([], [], '-o', lw=2)\n",
    "line2, = ax[1].plot([], [], lw=2)\n",
    "\n",
    "def fplot(i):\n",
    "    t = i*claw.tfinal/claw.num_output_times\n",
    "    #tx = 1.21*t + 20\n",
    "    xl = 23\n",
    "    xr = 43\n",
    "\n",
    "    frame = claw.frames[i+1]\n",
    "    eps = frame.q[0,:]\n",
    "    K = frame.aux[1,:]\n",
    "    sigma = np.exp(K*eps)-1\n",
    "    u = frame.q[1,:]\n",
    "    \n",
    "    # Compute averages of sigma\n",
    "    sig_avg = np.zeros(num_layers)\n",
    "    for i in range(num_layers):\n",
    "        sig_avg[i] = sum(sigma[i*cells_per_layer:(i+1)*cells_per_layer])/cells_per_layer     \n",
    "    \n",
    "    line.set_data(xc, eps)\n",
    "    lineavg.set_data(np.arange(num_layers)+1/2,sig_avg)\n",
    "    line2.set_data(xc, sigma)\n",
    "    ax[0].set_title(\"t= {:.1f}\".format(frame.t))\n",
    "    ax[0].set_ylabel('Strain',fontsize=20)\n",
    "    ax[1].set_ylabel('Stress',fontsize=20)\n",
    "    ax[0].set_xlim(xl,xr)\n",
    "    ax[1].set_xlim(xl,xr)\n",
    "    \n",
    "    fname = 'frame'+str(i).zfill(4)+'.png'\n",
    "    fig.savefig(fname)\n",
    "    \n",
    "    return line,\n",
    "\n",
    "anim = animation.FuncAnimation(fig, fplot, frames=1000, repeat=False)\n",
    "plt.close()\n",
    "HTML(anim.to_jshtml())"
   ]
  },
  {
   "cell_type": "code",
   "execution_count": null,
   "id": "07270f44",
   "metadata": {},
   "outputs": [],
   "source": []
  },
  {
   "cell_type": "code",
   "execution_count": null,
   "id": "aa0d6042",
   "metadata": {},
   "outputs": [],
   "source": []
  },
  {
   "cell_type": "code",
   "execution_count": null,
   "id": "10f5e49f",
   "metadata": {},
   "outputs": [],
   "source": []
  },
  {
   "cell_type": "code",
   "execution_count": null,
   "id": "0945b889",
   "metadata": {},
   "outputs": [],
   "source": []
  },
  {
   "cell_type": "code",
   "execution_count": null,
   "id": "55428230",
   "metadata": {},
   "outputs": [],
   "source": []
  }
 ],
 "metadata": {
  "kernelspec": {
   "display_name": "Python 3 (ipykernel)",
   "language": "python",
   "name": "python3"
  },
  "language_info": {
   "codemirror_mode": {
    "name": "ipython",
    "version": 3
   },
   "file_extension": ".py",
   "mimetype": "text/x-python",
   "name": "python",
   "nbconvert_exporter": "python",
   "pygments_lexer": "ipython3",
   "version": "3.10.4"
  }
 },
 "nbformat": 4,
 "nbformat_minor": 5
}
