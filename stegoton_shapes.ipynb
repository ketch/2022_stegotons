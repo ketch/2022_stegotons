{
 "cells": [
  {
   "cell_type": "code",
   "execution_count": null,
   "id": "a03783ca-24b2-4967-ab13-8d010a055d34",
   "metadata": {},
   "outputs": [],
   "source": [
    "import stegoton\n",
    "import matplotlib.pyplot as plt\n",
    "from IPython.display import HTML\n",
    "from matplotlib import animation\n",
    "import numpy as np\n",
    "\n",
    "import stegoton_shapes  # Replace this with the name of your script"
   ]
  },
  {
   "cell_type": "markdown",
   "id": "14a53f71-ccc8-4050-985f-c8d20c4a972d",
   "metadata": {
    "jp-MarkdownHeadingCollapsed": true
   },
   "source": [
    "# Overview\n",
    "\n",
    "In this notebook we investigate the variation in shape (as a function of amplitude) of stegotons.  LeVeque and Yong observed (by measuring the wave as a function of time at a fixed point in space) that stegotons have something close to a $sech^2$ shape, with their width scaling like the reciprocal square root of their amplitude.  In this way they are similar to KdV solitons.\n",
    "\n",
    "The KdV equation \n",
    "$$\n",
    "    u_t + \\frac{1}{2} (u^2)_x + u_{xxx} = 0\n",
    "$$\n",
    "has a linear dispersive term, whereas the dispersive terms in the LY homogenized equations are nonlinear.  A simple PDE with nonlinear dispersion is the K(2,2) compacton equation\n",
    "$$\n",
    "    u_t + (u^2)_x + (u^2)_{xxx} = 0.\n",
    "$$\n",
    "The latter equation has solitons with a different shape:\n",
    "$$\n",
    "    u(x,t) = A \\cos^2(B(x-Ct)).\n",
    "$$\n",
    "A connection for stegotons with the compacton equation was made in my PhD thesis from a theoretical standpoint.  From the homogenized equations of LeVeque & Yong one can see that the leading dispersive terms are a sum of linear and nonlinear parts.\n",
    "\n",
    "It seems therefore unsurprising that stegotons of small amplitude have a nearly $sech^2$ shape, while large-amplitude stegotons have a $\\cos^2$ (or mabye even steeper) shape."
   ]
  },
  {
   "cell_type": "markdown",
   "id": "b5d624da-9405-4c00-8545-04fc37b6b1c1",
   "metadata": {
    "jp-MarkdownHeadingCollapsed": true
   },
   "source": [
    "# A train of solitary waves\n",
    "First we generate a long train of solitary waves of descending amplitude.  One issue with investigating large-amplitude stegotons is that there seems to be a limit on how large they can get without leading to shock formation.  The initial pulse in the simulation below is just large enough that some ripples appear, probably caused by a little shock formation."
   ]
  },
  {
   "cell_type": "code",
   "execution_count": null,
   "id": "a36e41c9-b9ba-4bda-a818-711c717a0a98",
   "metadata": {},
   "outputs": [],
   "source": [
    "claw = stegoton_shapes.setup(num_output_times=200,amp=0.17,cells_per_layer=40,width=30,tfinal=800.,solver_type=\"sharpclaw\")\n",
    "claw.keep_copy = True\n",
    "\n",
    "claw.run()"
   ]
  },
  {
   "cell_type": "markdown",
   "id": "48e9c69a-581e-4894-8253-d887fe54dd06",
   "metadata": {},
   "source": [
    "## Rescale and re-center\n",
    "We now find the peaks of the stegotons and then shift them all to $x=0$.  Then we rescale them to have amplitude 1, also rescaling their width.\n",
    "\n",
    "In the code that follows we only plot the largest and smallest stegotons; plotting the others makes it hard to see the details."
   ]
  },
  {
   "cell_type": "code",
   "execution_count": null,
   "id": "6bd6adc0-2f96-4567-bf9d-719c3e3be7a2",
   "metadata": {},
   "outputs": [],
   "source": [
    "g = np.loadtxt(\"./_output/_gauges/gauge590.75.txt\")\n",
    "tt = g[:,0]\n",
    "rhou = g[:,2]\n",
    "rho = 4\n",
    "u = rhou/rho\n",
    "plt.plot(tt,-u)\n",
    "plt.xlim(620,795)\n",
    "#plt.xlim(658,680)\n",
    "delta = np.diff(-u)\n",
    "dd = delta[1:]*delta[:-1] * (u[2:]<-0.1)\n",
    "peaks = np.where(dd<0)\n",
    "plt.plot(tt[peaks],-u[peaks],'ok')"
   ]
  },
  {
   "cell_type": "code",
   "execution_count": null,
   "id": "94ab37fc-5c87-496f-b6d8-7786c4eab22c",
   "metadata": {},
   "outputs": [],
   "source": [
    "tt[peaks]"
   ]
  },
  {
   "cell_type": "code",
   "execution_count": null,
   "id": "0aa24268-ed7b-4d6d-b798-e1223742f3d0",
   "metadata": {},
   "outputs": [],
   "source": [
    "centers = np.array([636.6, 752.86])# 643.29052281, 650.68345809, 658.6454708 ,\n",
    "       #667.22, 676.37889282,\n",
    "       #686.02734809, 696.2038154 ,\n",
    "       #706.86557607, 717.89074234, 729.31871731, 741.01,\n",
    "       #752.82, 764.5])#+0.05\n",
    "for c in centers:\n",
    "    plt.plot(tt-c,-u)\n",
    "plt.plot([0,0],[0,2.85],\"--\")\n",
    "plt.xlim(-5,5);"
   ]
  },
  {
   "cell_type": "code",
   "execution_count": null,
   "id": "4ad938ee-aa07-4b22-acb1-53e24c5494c1",
   "metadata": {},
   "outputs": [],
   "source": [
    "-u[peaks]"
   ]
  },
  {
   "cell_type": "code",
   "execution_count": null,
   "id": "869089bd-2865-4196-897a-3d836439903c",
   "metadata": {},
   "outputs": [],
   "source": [
    "amplitudes = np.array([2.36945698,0.47904089])/rho#, 2.25992276, 2.13510977, 1.99824864, 1.84563516,\n",
    "       #1.69427908, 1.52435368, 1.35967552,\n",
    "       #1.17964447, 1.00611449, 0.83038067,\n",
    "       #0.65329977, 0.47904089]\n",
    "t = np.linspace(-2.5,2.5,1000)\n",
    "plt.figure(figsize=(14,8))\n",
    "j = 1\n",
    "for (a,c) in zip(amplitudes,centers):\n",
    "        plt.plot((tt-c)*np.sqrt(a),-u/a, label=\"stegoton\"+str(j))\n",
    "        j = j+1\n",
    "plt.plot(t,1./(np.cosh(1.7*t))**2, 'k--', label=\"sech^2\")\n",
    "plt.plot(t,1./(np.cosh(1.4*t))**2, 'r--', label=\"sech^2\")\n",
    "\n",
    "plt.plot(t,(np.cos(1.3*t))**2,'g--', label=\"cos^2\")\n",
    "#plt.plot([0,0],[0,1.],\"--\")\n",
    "\n",
    "plt.xlim(-1.5,1.5)\n",
    "plt.ylim(-0.1,1.1);\n",
    "plt.legend();\n",
    "plt.plot([-1.5,1.5],[0,0],\"--\",color=\"gray\")\n"
   ]
  },
  {
   "cell_type": "markdown",
   "id": "cdc01bba-2fdb-43d2-b636-3decc7fa3885",
   "metadata": {},
   "source": [
    "Here we can see that the largest and smallest stegoton are shaped roughly like a $\\cos^2$ and $sech^2$, respectively.  Although the tails (particularly for the larger one) differ markedly."
   ]
  },
  {
   "cell_type": "markdown",
   "id": "bb1b0508-7fdb-4a0a-82c7-85090798152a",
   "metadata": {},
   "source": [
    "Above we have examined $u$.  What about $\\sigma$?  It stays closer to a sech$^2$ shape:"
   ]
  },
  {
   "cell_type": "code",
   "execution_count": null,
   "id": "c02afded-7dc0-4032-9609-a6fe82f510ce",
   "metadata": {},
   "outputs": [],
   "source": [
    "g = np.loadtxt(\"./_output/_gauges/gauge590.25.txt\")\n",
    "centers = np.array([636.075, 752.265])\n",
    "amplitudes = np.array([1.53,0.255])\n",
    "eps = g[:,1]\n",
    "K = 1\n",
    "sig = np.exp(K*eps)-1\n",
    "\n",
    "plt.figure(figsize=(14,8))\n",
    "j = 1\n",
    "for (a,c) in zip(amplitudes,centers):\n",
    "        plt.plot((tt-c)*np.sqrt(a),sig/a, label=\"stegoton\"+str(j))\n",
    "        j = j+1\n",
    "\n",
    "plt.plot(t,1./(np.cosh(1.2*t))**2, 'k--', label=\"sech^2\")\n",
    "plt.plot(t,1./(np.cosh(1.*t))**2, 'k--', label=\"sech^2\")\n",
    "plt.plot(t,1./(np.cosh(0.43*t))**10, 'r--', label=\"sech^10\")\n",
    "\n",
    "plt.xlim(-2.5,2.5)\n",
    "plt.ylim(-0.1,1.1)\n",
    "#plt.plot(tt,sig)"
   ]
  },
  {
   "cell_type": "code",
   "execution_count": null,
   "id": "3633f33f-7fdf-4a7c-9470-c0aed4010f34",
   "metadata": {},
   "outputs": [],
   "source": [
    "rho"
   ]
  },
  {
   "cell_type": "markdown",
   "id": "a4ef408e-ab47-438e-8ad3-06e95ce32039",
   "metadata": {},
   "source": [
    "# Generating individual large stegotons\n",
    "\n",
    "An arbitrary initial pulse, like that used above, tends to break into multiple stegotons.  A larger initial pulse yields larger stegotons, but after a certain point we get shock formation and oscillations instead of taller stegotons.  It seems to be possible to generate taller stegotons by directly initializing with the appropriate shape, which is the strategy we try now."
   ]
  },
  {
   "cell_type": "code",
   "execution_count": null,
   "id": "0cc344f1-4e3b-4b39-81d2-0cc9198318b1",
   "metadata": {},
   "outputs": [],
   "source": [
    "claw = stegoton_shapes.setup(num_output_times=200,amp=.1,cells_per_layer=40,width=10,tfinal=800.,\n",
    "                             solver_type=\"sharpclaw\",shape=\"cos2\",xmax=200)\n",
    "claw.keep_copy = True\n",
    "\n",
    "claw.run()"
   ]
  },
  {
   "cell_type": "code",
   "execution_count": null,
   "id": "d2285af9-f301-4d3b-a8b3-de8bf742bce1",
   "metadata": {},
   "outputs": [],
   "source": [
    "# amp = 0.1\n",
    "g = np.loadtxt(\"./_output/_gauges/gauge190.25.txt\")\n",
    "tt = g[:,0]\n",
    "rhou = g[:,2]\n",
    "rho = claw.frames[0].aux[0,15]\n",
    "u = rhou/rho\n",
    "plt.plot(tt,-u)\n",
    "plt.xlim(705,730)\n",
    "\n",
    "w = 0.45\n",
    "c = 715.6\n",
    "a = 0.099\n",
    "plt.plot(tt,a*(np.cos(w*(tt-c)))**2 * (np.abs(tt-c)<=np.pi/(2*w)));"
   ]
  },
  {
   "cell_type": "markdown",
   "id": "a6093a15-55e6-4a86-a446-eaa26965a85d",
   "metadata": {},
   "source": [
    "For amplitude 0.1, we see that the tails are substantially larger than those of the $\\cos^2$ shape."
   ]
  },
  {
   "cell_type": "code",
   "execution_count": null,
   "id": "240a0e39-545a-4351-91f3-3fcad186b287",
   "metadata": {},
   "outputs": [],
   "source": [
    "claw = stegoton_shapes.setup(num_output_times=200,amp=.25,cells_per_layer=40,width=10,tfinal=800.,\n",
    "                             solver_type=\"sharpclaw\",shape=\"cos2\",xmax=200)\n",
    "claw.keep_copy = True\n",
    "\n",
    "claw.run()"
   ]
  },
  {
   "cell_type": "code",
   "execution_count": null,
   "id": "e06282f8-48d3-44b3-9f1d-e3e7c1123681",
   "metadata": {},
   "outputs": [],
   "source": [
    "# amp = 0.25\n",
    "g = np.loadtxt(\"./_output/_gauges/gauge190.25.txt\")\n",
    "tt = g[:,0]\n",
    "rhou = g[:,2]\n",
    "rho = claw.frames[0].aux[0,15]\n",
    "u = rhou/rho\n",
    "plt.plot(tt,-u)\n",
    "plt.xlim(670,690)\n",
    "\n",
    "w = 0.58\n",
    "c = 683.1\n",
    "a = 0.217\n",
    "plt.plot(tt,a*(np.cos(w*(tt-c)))**2 * (np.abs(tt-c)<=np.pi/(2*w)));"
   ]
  },
  {
   "cell_type": "markdown",
   "id": "63cf2238-b90e-4c55-b23e-f12e2a71b08b",
   "metadata": {},
   "source": [
    "For amplitude 0.25, they are closer."
   ]
  },
  {
   "cell_type": "code",
   "execution_count": null,
   "id": "28ca1517-2b1a-453c-993a-25ad5ce06466",
   "metadata": {},
   "outputs": [],
   "source": [
    "claw = stegoton_shapes.setup(num_output_times=200,amp=.42,cells_per_layer=40,width=10,tfinal=800.,\n",
    "                             solver_type=\"sharpclaw\",shape=\"cos2\",xmax=200)\n",
    "claw.keep_copy = True\n",
    "\n",
    "claw.run()"
   ]
  },
  {
   "cell_type": "code",
   "execution_count": null,
   "id": "78a6048d-9112-451d-af1f-1ac3f958d009",
   "metadata": {},
   "outputs": [],
   "source": [
    "# amp = 0.42\n",
    "g = np.loadtxt(\"./_output/_gauges/gauge190.25.txt\")\n",
    "tt = g[:,0]\n",
    "rhou = g[:,2]\n",
    "rho = claw.frames[0].aux[0,15]\n",
    "u = rhou/rho\n",
    "plt.plot(tt,-u)\n",
    "#plt.xlim(620,630)\n",
    "\n",
    "w = 0.7\n",
    "c = 626.59\n",
    "a = 0.425\n",
    "plt.plot(tt,a*(np.cos(w*(tt-c)))**2 * (np.abs(tt-c)<=np.pi/(2*w)));"
   ]
  },
  {
   "cell_type": "markdown",
   "id": "3f019f38-d42d-454f-9087-6c677049b592",
   "metadata": {},
   "source": [
    "Here we see a nearly $\\cos^2$ shape."
   ]
  },
  {
   "cell_type": "code",
   "execution_count": null,
   "id": "2d8cbe2d-f988-41b7-8cf6-b415e940e046",
   "metadata": {},
   "outputs": [],
   "source": [
    "claw = stegoton_shapes.setup(num_output_times=200,amp=.5,cells_per_layer=40,width=10,tfinal=800.,\n",
    "                             solver_type=\"sharpclaw\",shape=\"cos2\",xmax=200)\n",
    "claw.keep_copy = True\n",
    "\n",
    "claw.run()"
   ]
  },
  {
   "cell_type": "code",
   "execution_count": null,
   "id": "2f9afaa8-998f-4402-9633-7a79cca519e9",
   "metadata": {},
   "outputs": [],
   "source": [
    "# amp = 0.5\n",
    "g = np.loadtxt(\"./_output/_gauges/gauge190.25.txt\")\n",
    "tt = g[:,0]\n",
    "rhou = g[:,2]\n",
    "rho = claw.frames[0].aux[0,15]\n",
    "u = rhou/rho\n",
    "plt.plot(tt,-u)\n",
    "plt.xlim(615,625)\n",
    "\n",
    "w = 0.7\n",
    "c = 619.75\n",
    "a = 0.45\n",
    "plt.plot(tt,a*(np.cos(w*(tt-c)))**2 * (np.abs(tt-c)<=np.pi/(2*w)));\n",
    "\n",
    "p = 1.6\n",
    "w = 0.8\n",
    "cos = np.maximum(np.cos(w*(tt-c)),0)\n",
    "fit = a*cos**p * (np.abs(tt-c)<=np.pi/(2*w))\n",
    "#fit = np.real(fit)\n",
    "plt.plot(tt,fit);"
   ]
  },
  {
   "cell_type": "markdown",
   "id": "1c4c39fd-ddf6-4faf-adc7-d562faafabab",
   "metadata": {},
   "source": [
    "At even larger amplitudes, the stegoton tails are even steeper than $\\cos^2$."
   ]
  },
  {
   "cell_type": "code",
   "execution_count": null,
   "id": "3bf2090d-4f3e-47a4-adda-760e01ac217b",
   "metadata": {},
   "outputs": [],
   "source": [
    "# amp = 0.5\n",
    "g = np.loadtxt(\"./_output/_gauges/gauge190.25.txt\")\n",
    "tt = g[:,0]\n",
    "rhou = g[:,2]\n",
    "rho = claw.frames[0].aux[0,15]\n",
    "u = rhou/rho\n",
    "plt.plot(tt,-u)\n",
    "plt.xlim(198,206)\n",
    "\n",
    "w = 0.7\n",
    "c = 201.8\n",
    "a = 0.45\n",
    "plt.plot(tt,a*(np.cos(w*(tt-c)))**2 * (np.abs(tt-c)<=np.pi/(2*w)));\n",
    "\n",
    "p = 1.6\n",
    "w = 0.83\n",
    "cos = np.maximum(np.cos(w*(tt-c)),0)\n",
    "fit = a*cos**p * (np.abs(tt-c)<=np.pi/(2*w))\n",
    "#fit = np.real(fit)\n",
    "plt.plot(tt,fit);"
   ]
  },
  {
   "cell_type": "code",
   "execution_count": null,
   "id": "98a9f9c5-11ab-4b4e-8047-f79e53bf2587",
   "metadata": {},
   "outputs": [],
   "source": [
    "claw = stegoton_shapes.setup(num_output_times=200,amp=.5,cells_per_layer=40,width=10,tfinal=800.,\n",
    "                             solver_type=\"sharpclaw\",shape=\"cosp\",xmax=200)\n",
    "claw.keep_copy = True\n",
    "\n",
    "claw.run()"
   ]
  },
  {
   "cell_type": "code",
   "execution_count": null,
   "id": "e28e1753-2402-4668-832b-fc859e02bf18",
   "metadata": {},
   "outputs": [],
   "source": [
    "# amp = 0.5\n",
    "g = np.loadtxt(\"./_output/_gauges/gauge190.25.txt\")\n",
    "tt = g[:,0]\n",
    "rhou = g[:,2]\n",
    "rho = claw.frames[0].aux[0,15]\n",
    "u = rhou/rho\n",
    "plt.plot(tt,-u)\n",
    "plt.xlim(198,210)\n",
    "\n",
    "w = 0.7\n",
    "c = 203.31\n",
    "a = 0.435\n",
    "plt.plot(tt,a*(np.cos(w*(tt-c)))**2 * (np.abs(tt-c)<=np.pi/(2*w)));\n",
    "\n",
    "p = 1.6\n",
    "w = 0.83\n",
    "cos = np.maximum(np.cos(w*(tt-c)),0)\n",
    "fit = a*cos**p * (np.abs(tt-c)<=np.pi/(2*w))\n",
    "#fit = np.real(fit)\n",
    "plt.plot(tt,fit);"
   ]
  },
  {
   "cell_type": "code",
   "execution_count": null,
   "id": "0eb8cbbf-da6a-42e7-850e-3f0c9d7baf94",
   "metadata": {},
   "outputs": [],
   "source": [
    "claw = stegoton_shapes.setup(num_output_times=200,amp=0.6,cells_per_layer=40,width=10,tfinal=800.,\n",
    "                             solver_type=\"sharpclaw\",shape=\"cosp\",xmax=200)\n",
    "claw.keep_copy = True\n",
    "\n",
    "claw.run()"
   ]
  },
  {
   "cell_type": "code",
   "execution_count": null,
   "id": "af8fadef-e259-46a9-96bc-20a57a24baab",
   "metadata": {},
   "outputs": [],
   "source": [
    "g = np.loadtxt(\"./_output/_gauges/gauge190.25.txt\")\n",
    "tt = g[:,0]\n",
    "rhou = g[:,2]\n",
    "rho = claw.frames[0].aux[0,15]\n",
    "u = rhou/rho\n",
    "plt.plot(tt,-u)\n",
    "plt.xlim(194,202)\n",
    "\n",
    "w = 0.7\n",
    "c = 197.72\n",
    "a = 0.51\n",
    "plt.plot(tt,a*(np.cos(w*(tt-c)))**2 * (np.abs(tt-c)<=np.pi/(2*w)));\n",
    "\n",
    "p = 1.\n",
    "w = 0.99\n",
    "cos = np.maximum(np.cos(w*(tt-c)),0)\n",
    "fit = a*cos**p * (np.abs(tt-c)<=np.pi/(2*w))\n",
    "#fit = np.real(fit)\n",
    "plt.plot(tt,fit);"
   ]
  },
  {
   "cell_type": "code",
   "execution_count": null,
   "id": "d457e97d-7137-4d0b-a6da-5f4391bf4f46",
   "metadata": {},
   "outputs": [],
   "source": [
    "claw = stegoton_shapes.setup(num_output_times=200,amp=0.6,cells_per_layer=40,width=10,tfinal=800.,\n",
    "                             solver_type=\"sharpclaw\",shape=\"cos1\",xmax=200)\n",
    "claw.keep_copy = True\n",
    "\n",
    "claw.run()"
   ]
  },
  {
   "cell_type": "code",
   "execution_count": null,
   "id": "4e30a068-f7ac-47dc-9f27-8c2c0e06199c",
   "metadata": {},
   "outputs": [],
   "source": [
    "# 40 cells per layer, cosine initialization\n",
    "g = np.loadtxt(\"./_output/_gauges/gauge190.25.txt\")\n",
    "tt = g[:,0]\n",
    "rhou = g[:,2]\n",
    "rho = claw.frames[0].aux[0,15]\n",
    "u = rhou/rho\n",
    "plt.plot(tt,-u)\n",
    "plt.xlim(192,198)\n",
    "\n",
    "w = 0.7\n",
    "c = 194.45\n",
    "a = 0.55\n",
    "#plt.plot(tt,a*(np.cos(w*(tt-c)))**2 * (np.abs(tt-c)<=np.pi/(2*w)));\n",
    "\n",
    "p = 1.\n",
    "w = 1.\n",
    "cos = np.maximum(np.cos(w*(tt-c)),0)\n",
    "fit = a*cos**p * (np.abs(tt-c)<=np.pi/(2*w))\n",
    "plt.plot(tt,fit);"
   ]
  },
  {
   "cell_type": "code",
   "execution_count": null,
   "id": "4230efe0-3378-4c79-922a-ab220ccde12f",
   "metadata": {},
   "outputs": [],
   "source": [
    "eps = g[:,1]\n",
    "K = 1.\n",
    "sig = np.exp(K*eps)-1\n",
    "plt.plot(tt,sig)\n",
    "plt.xlim(192,198)\n",
    "plt.plot(tt,2./(np.cosh(np.sqrt(2)*(tt-c)))**2, 'k')"
   ]
  },
  {
   "cell_type": "code",
   "execution_count": null,
   "id": "7e4d04b1-696d-4670-924e-ab774fe38333",
   "metadata": {},
   "outputs": [],
   "source": [
    "claw = stegoton_shapes.setup(num_output_times=200,amp=0.6,cells_per_layer=160,width=10,tfinal=800.,\n",
    "                             solver_type=\"sharpclaw\",shape=\"cos1\",xmax=200)\n",
    "claw.keep_copy = True\n",
    "\n",
    "claw.run()"
   ]
  },
  {
   "cell_type": "code",
   "execution_count": null,
   "id": "6f53c4aa-4768-402b-91de-a5a2e0bcdff9",
   "metadata": {},
   "outputs": [],
   "source": [
    "# 160 cells per layer\n",
    "g = np.loadtxt(\"./_output/_gauges/gauge190.25.txt\")\n",
    "tt = g[:,0]\n",
    "rhou = g[:,2]\n",
    "rho = claw.frames[0].aux[0,15]\n",
    "u = rhou/rho\n",
    "plt.plot(tt,-u)\n",
    "plt.xlim(192,198)\n",
    "\n",
    "w = 0.7\n",
    "c = 194.40\n",
    "a = 0.55\n",
    "#plt.plot(tt,a*(np.cos(w*(tt-c)))**2 * (np.abs(tt-c)<=np.pi/(2*w)));\n",
    "\n",
    "p = 1.\n",
    "w = 1.\n",
    "cos = np.maximum(np.cos(w*(tt-c)),0)\n",
    "fit = a*cos**p * (np.abs(tt-c)<=np.pi/(2*w))\n",
    "#fit = np.real(fit)\n",
    "plt.plot(tt,fit);"
   ]
  },
  {
   "cell_type": "code",
   "execution_count": null,
   "id": "612b1859-46f4-4e9d-b4c3-9c220a5e84b1",
   "metadata": {},
   "outputs": [],
   "source": [
    "eps = g[:,1]\n",
    "K = 1.\n",
    "sig = np.exp(K*eps)-1\n",
    "plt.plot(tt,sig)\n",
    "plt.xlim(192,198)\n",
    "plt.plot(tt,2./(np.cosh(np.sqrt(2)*(tt-194.33)))**2, 'k')"
   ]
  },
  {
   "cell_type": "markdown",
   "id": "9afdbc1d-3e53-47a2-a84e-f11bf264d193",
   "metadata": {},
   "source": [
    "At this point the stegoton has a rather non-smooth shape.  This seems inevitable, since its width is only about 3 layers of the medium, so it \"sees\" the microstructure of the medium.  But interestingly, it is quite close to exactly $\\alpha\\cos(t-c)$.\n",
    "\n",
    "Furthermore, it's traveling almost exactly at speed 1, which is the maximum speed of propagation for small perturbations (note that the peak originally emerges at $x=0$ at $t=3$, so the speed of this wave is about 0.9936)."
   ]
  },
  {
   "cell_type": "markdown",
   "id": "df663a57-6f85-4cbb-893a-ae32cef9b838",
   "metadata": {},
   "source": [
    "# Questions\n",
    "\n",
    "- What happens to this story as we vary $K$ and $\\rho$?  For instance if we keep $K_A=\\rho_A=1$ and take $K_B=\\rho_B$ larger and larger?\n",
    "- What if we use some other consitutive relation?  E.g. quadratic?\n",
    "- What happens if we try to generate larger solitary wave solutions of the homogenized equations?  Is the $c_\\text{max}$ limit somehow present there?\n",
    "- Can we prove that a solitary wave can't move faster than $c_\\text{max}$?  The idea is that if the wave is smooth then there is some finite region at the front where the amplitude is $<\\epsilon$ and the nonlinearity can't overcome the heterogeneous slow-down."
   ]
  },
  {
   "cell_type": "markdown",
   "id": "78729eff-0c15-4129-ba27-f496a4f90564",
   "metadata": {},
   "source": [
    "# Extracting the apex"
   ]
  },
  {
   "cell_type": "code",
   "execution_count": null,
   "id": "d57e25df-2147-4f68-971f-93a7de0b2492",
   "metadata": {},
   "outputs": [],
   "source": [
    "plt.plot(-claw.frames[-1].q[1,:]/claw.frames[-1].aux[0,:])\n",
    "plt.xlim(29900,30900)"
   ]
  },
  {
   "cell_type": "code",
   "execution_count": null,
   "id": "37992538-05ce-42d1-adb8-79ccd8f64612",
   "metadata": {},
   "outputs": [],
   "source": [
    "q0 = claw.frames[-1].q.copy()\n",
    "isteg = [30000,30800]\n",
    "plt.plot(q0[0,isteg[0]:isteg[1]])"
   ]
  },
  {
   "cell_type": "code",
   "execution_count": null,
   "id": "0a1e7c15-44a4-4c5b-91cb-4336894f36e7",
   "metadata": {},
   "outputs": [],
   "source": [
    "q0[:,:isteg[0]]=0\n",
    "q0[:,isteg[1]:]=0\n",
    "plt.plot(q0[0,:])"
   ]
  },
  {
   "cell_type": "code",
   "execution_count": null,
   "id": "a9a39a6d-c806-4b84-a275-c369c1dd66e2",
   "metadata": {},
   "outputs": [],
   "source": [
    "np.savetxt('apex_160cpl.txt',q0)"
   ]
  },
  {
   "cell_type": "code",
   "execution_count": null,
   "id": "b5a8c0bb-3975-4d0b-96ff-2ab16a5932f0",
   "metadata": {},
   "outputs": [],
   "source": [
    "claw2 = stegoton_shapes.setup(num_output_times=600,cells_per_layer=160,tfinal=30.,\n",
    "                             solver_type=\"sharpclaw\",xmax=200,ic=\"./apex_160cpl.txt\")\n",
    "claw2.keep_copy = True\n",
    "\n",
    "claw2.run()"
   ]
  },
  {
   "cell_type": "code",
   "execution_count": null,
   "id": "93a2727e-1396-4ff0-8d38-9a27109285dc",
   "metadata": {},
   "outputs": [],
   "source": [
    "q0 = claw2.frames[0].q\n",
    "#isteg = [30000,30800]\n",
    "plt.plot(q0[0,:])\n",
    "plt.xlim(29000,31000)"
   ]
  },
  {
   "cell_type": "code",
   "execution_count": null,
   "id": "547e81df-9259-44b6-a7f0-217ea4c88a56",
   "metadata": {},
   "outputs": [],
   "source": [
    "q0 = claw2.frames[600].q\n",
    "#isteg = [30000,30800]\n",
    "plt.plot(q0[0,:])\n",
    "#plt.xlim(29000,31000)"
   ]
  },
  {
   "cell_type": "code",
   "execution_count": null,
   "id": "07081793-290d-4ec3-ac28-8692a7f4ed6e",
   "metadata": {},
   "outputs": [],
   "source": [
    "plt.plot(claw.frames[-1].q[0,:])\n",
    "plt.xlim(7400,7700)"
   ]
  },
  {
   "cell_type": "code",
   "execution_count": null,
   "id": "ae350c32-407e-4a7f-ab1d-f2e3ae72404e",
   "metadata": {},
   "outputs": [],
   "source": [
    "q0 = claw.frames[-1].q.copy()\n",
    "isteg = [7450,7700]\n",
    "plt.plot(q0[0,isteg[0]:isteg[1]])"
   ]
  },
  {
   "cell_type": "code",
   "execution_count": null,
   "id": "5ba49810-f9e2-4cd3-842b-75100bfbfd08",
   "metadata": {},
   "outputs": [],
   "source": [
    "q0[:,:isteg[0]]=0\n",
    "q0[:,isteg[1]:]=0\n",
    "plt.plot(q0[0,:])"
   ]
  },
  {
   "cell_type": "code",
   "execution_count": null,
   "id": "cc80d91f-b9b3-45c1-9ea8-78f8dc06db17",
   "metadata": {},
   "outputs": [],
   "source": [
    "np.savetxt('apex_40cpl.txt',q0)"
   ]
  },
  {
   "cell_type": "code",
   "execution_count": null,
   "id": "fdc4216d-145c-477b-b355-e50aa3322f60",
   "metadata": {},
   "outputs": [],
   "source": [
    "claw2 = stegoton_shapes.setup(num_output_times=200,cells_per_layer=40,tfinal=800.,\n",
    "                             solver_type=\"sharpclaw\",xmax=200,ic=\"./apex_40cpl.txt\")\n",
    "claw2.keep_copy = True\n",
    "\n",
    "claw2.run()"
   ]
  },
  {
   "cell_type": "code",
   "execution_count": null,
   "id": "766e2e0c-d179-4d11-a58c-76907e941c1d",
   "metadata": {},
   "outputs": [],
   "source": [
    "# 40 cells per layer\n",
    "g = np.loadtxt(\"./_output/_gauges/gauge190.25.txt\")\n",
    "tt = g[:,0]\n",
    "rhou = g[:,2]\n",
    "rho = claw2.frames[0].aux[0,15]\n",
    "u = rhou/rho\n",
    "plt.plot(tt,-u)\n",
    "plt.xlim(595,601)\n",
    "\n",
    "w = 0.7\n",
    "c = 598.36\n",
    "a = 0.54\n",
    "\n",
    "p = 1.\n",
    "w = 1.\n",
    "cos = np.maximum(np.cos(w*(tt-c)),0)\n",
    "fit = a*cos**p * (np.abs(tt-c)<=np.pi/(2*w))\n",
    "plt.plot(tt,fit);"
   ]
  },
  {
   "cell_type": "code",
   "execution_count": null,
   "id": "efb9f665-71f6-421a-91b6-e43ce459dac2",
   "metadata": {},
   "outputs": [],
   "source": [
    "eps = g[:,1]\n",
    "K = 1.\n",
    "sig = np.exp(K*eps)-1\n",
    "plt.plot(tt,sig)\n",
    "plt.xlim(595,601)\n",
    "plt.plot(tt,2./(np.cosh(np.sqrt(2)*(tt-c)))**2, 'k')"
   ]
  },
  {
   "cell_type": "code",
   "execution_count": null,
   "id": "24cd1f5b-2d7a-4905-b30f-0bc7abdfc48a",
   "metadata": {},
   "outputs": [],
   "source": [
    "g = np.loadtxt(\"./_output/_gauges/gauge190.25.txt\")\n",
    "tt = g[:,0]\n",
    "rhou = g[:,2]\n",
    "rho = claw2.frames[0].aux[0,15]\n",
    "u = rhou/rho\n",
    "plt.plot(tt,-u)\n",
    "plt.ylim(-0.1,0.1)"
   ]
  },
  {
   "cell_type": "code",
   "execution_count": null,
   "id": "3c68898b-d8b3-4c24-9d99-a7c5cadc65f2",
   "metadata": {},
   "outputs": [],
   "source": [
    "plt.plot(claw2.frames[10].q[0,:])\n",
    "#plt.xlim(7400,7700)"
   ]
  },
  {
   "cell_type": "code",
   "execution_count": null,
   "id": "51f8bf0f-2f53-461d-bbfc-79776d5b1829",
   "metadata": {},
   "outputs": [],
   "source": []
  }
 ],
 "metadata": {
  "kernelspec": {
   "display_name": "Python 3 (ipykernel)",
   "language": "python",
   "name": "python3"
  },
  "language_info": {
   "codemirror_mode": {
    "name": "ipython",
    "version": 3
   },
   "file_extension": ".py",
   "mimetype": "text/x-python",
   "name": "python",
   "nbconvert_exporter": "python",
   "pygments_lexer": "ipython3",
   "version": "3.11.4"
  }
 },
 "nbformat": 4,
 "nbformat_minor": 5
}
