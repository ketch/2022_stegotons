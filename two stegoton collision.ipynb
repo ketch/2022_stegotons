{
 "cells": [
  {
   "cell_type": "markdown",
   "id": "a50de5a1",
   "metadata": {},
   "source": [
    "Before executing this notebook, it's necessary to run `stegoton.py` with appropriate parameters."
   ]
  },
  {
   "cell_type": "code",
   "execution_count": null,
   "id": "e3c37ee6",
   "metadata": {},
   "outputs": [],
   "source": [
    "from clawpack import pyclaw\n",
    "import matplotlib.pyplot as plt\n",
    "import numpy as np"
   ]
  },
  {
   "cell_type": "markdown",
   "id": "11269f19",
   "metadata": {},
   "source": [
    "# Cutting the stegotons"
   ]
  },
  {
   "cell_type": "code",
   "execution_count": null,
   "id": "6ff66f8d",
   "metadata": {},
   "outputs": [],
   "source": [
    "pyclaw"
   ]
  },
  {
   "cell_type": "code",
   "execution_count": null,
   "id": "79e4e803",
   "metadata": {},
   "outputs": [],
   "source": [
    "soln = pyclaw.Solution()\n",
    "\n",
    "soln.read(2000,file_format='ascii')\n",
    "\n",
    "plt.plot(soln.q[0,:])"
   ]
  },
  {
   "cell_type": "code",
   "execution_count": null,
   "id": "693298a4",
   "metadata": {},
   "outputs": [],
   "source": [
    "q0 = soln.q.copy()"
   ]
  },
  {
   "cell_type": "code",
   "execution_count": null,
   "id": "a66d6eed",
   "metadata": {},
   "outputs": [],
   "source": [
    "isteg1 = [6500,6800]  # This depends on the setup in stegoton.py\n",
    "plt.plot(q0[0,isteg1[0]:isteg1[1]])  # Plot to check that we got the right region"
   ]
  },
  {
   "cell_type": "code",
   "execution_count": null,
   "id": "6d9caedd",
   "metadata": {},
   "outputs": [],
   "source": [
    "isteg2 = [5900,6300]\n",
    "plt.plot(q0[0,isteg2[0]:isteg2[1]])"
   ]
  },
  {
   "cell_type": "code",
   "execution_count": null,
   "id": "d5d4c5ab",
   "metadata": {},
   "outputs": [],
   "source": [
    "cells_per_layer = 24\n",
    "q0.shape[1]/cells_per_layer"
   ]
  },
  {
   "cell_type": "code",
   "execution_count": null,
   "id": "4a16c157",
   "metadata": {},
   "outputs": [],
   "source": [
    "steg1_shift = -25\n",
    "steg2_shift = 25"
   ]
  },
  {
   "cell_type": "code",
   "execution_count": null,
   "id": "b630a15f",
   "metadata": {},
   "outputs": [],
   "source": [
    "q = np.zeros_like(q0)\n",
    "isteg1_shifted = np.array(isteg1) + cells_per_layer*steg1_shift\n",
    "q[:,isteg1_shifted[0]:isteg1_shifted[1]] = q0[:,isteg1[0]:isteg1[1]]"
   ]
  },
  {
   "cell_type": "code",
   "execution_count": null,
   "id": "fbe52ee9",
   "metadata": {},
   "outputs": [],
   "source": [
    "isteg2_shifted = np.array(isteg2) + cells_per_layer*steg2_shift\n",
    "q[:,isteg2_shifted[0]:isteg2_shifted[1]] = q0[:,isteg2[0]:isteg2[1]]"
   ]
  },
  {
   "cell_type": "code",
   "execution_count": null,
   "id": "bc7cb432",
   "metadata": {},
   "outputs": [],
   "source": [
    "plt.plot(q[0,:])"
   ]
  },
  {
   "cell_type": "code",
   "execution_count": null,
   "id": "785006df",
   "metadata": {},
   "outputs": [],
   "source": [
    "plt.plot(q[1,:])"
   ]
  },
  {
   "cell_type": "code",
   "execution_count": null,
   "id": "b4bc6432",
   "metadata": {},
   "outputs": [],
   "source": [
    "np.savetxt('two_stegotons.txt',q)"
   ]
  },
  {
   "cell_type": "markdown",
   "id": "afc15f20",
   "metadata": {},
   "source": [
    "Now run the collision simulation by using ic='./two_stegotons.txt' as an argument to `stegoton.setup()`."
   ]
  },
  {
   "cell_type": "markdown",
   "id": "1180272d",
   "metadata": {},
   "source": [
    "# Plotting the collision"
   ]
  },
  {
   "cell_type": "code",
   "execution_count": null,
   "id": "ff754aba",
   "metadata": {},
   "outputs": [],
   "source": [
    "num_out_times = 5000\n",
    "mx = q.shape[1]\n",
    "qt = np.zeros((mx,num_out_times))"
   ]
  },
  {
   "cell_type": "code",
   "execution_count": null,
   "id": "dbe052bb",
   "metadata": {},
   "outputs": [],
   "source": [
    "for i in range(num_out_times):\n",
    "    soln = pyclaw.Solution()\n",
    "    soln.read(i)\n",
    "    qt[:,i] = soln.q[0,:].copy()"
   ]
  },
  {
   "cell_type": "code",
   "execution_count": null,
   "id": "0fdd458a",
   "metadata": {
    "scrolled": false
   },
   "outputs": [],
   "source": [
    "plt.figure(figsize=(12,8))\n",
    "plt.pcolor(qt[:,2200:3000])"
   ]
  },
  {
   "cell_type": "code",
   "execution_count": null,
   "id": "558ae2e0",
   "metadata": {},
   "outputs": [],
   "source": []
  }
 ],
 "metadata": {
  "kernelspec": {
   "display_name": "Python 3 (ipykernel)",
   "language": "python",
   "name": "python3"
  },
  "language_info": {
   "codemirror_mode": {
    "name": "ipython",
    "version": 3
   },
   "file_extension": ".py",
   "mimetype": "text/x-python",
   "name": "python",
   "nbconvert_exporter": "python",
   "pygments_lexer": "ipython3",
   "version": "3.10.4"
  }
 },
 "nbformat": 4,
 "nbformat_minor": 5
}
